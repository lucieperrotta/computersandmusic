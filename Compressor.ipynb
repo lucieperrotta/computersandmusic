{
 "cells": [
  {
   "cell_type": "code",
   "execution_count": null,
   "metadata": {},
   "outputs": [],
   "source": [
    "from numpy.fft import fft, ifft, hfft\n",
    "from scipy.signal import lfilter\n",
    "from scipy.io import wavfile\n",
    "import numpy as np\n",
    "import matplotlib.pyplot as plt\n",
    "import sounddevice as sd\n",
    "from IPython.display import Audio\n",
    "from scipy import signal\n",
    "from helpers import *\n",
    "\n",
    "figsize=(10,5)"
   ]
  },
  {
   "cell_type": "code",
   "execution_count": null,
   "metadata": {},
   "outputs": [],
   "source": [
    "fs=44100"
   ]
  },
  {
   "cell_type": "code",
   "execution_count": null,
   "metadata": {},
   "outputs": [],
   "source": [
    "def gain_computer(x_G, T, W, R):\n",
    "    \"\"\"\n",
    "    Gain computer returning all values of y_G[n] in dB for all x_G[n] in dB.\n",
    "    \"\"\"\n",
    "    y_G = np.zeros(x_G.size) # init y_G\n",
    "    y_G = np.where(2 * (x_G - T) < -W,       x_G, y_G) # Compression off level range\n",
    "    y_G = np.where(2 * np.abs(x_G - T) <= W, x_G + (1/R - 1)*(x_G - T + W/2)**2 / (2*W), y_G) # Soft-knee range\n",
    "    y_G = np.where(2 * (x_G - T) > W,        T + (x_G - T)/R,  y_G) # Compression on range\n",
    "    \n",
    "    return y_G"
   ]
  },
  {
   "cell_type": "code",
   "execution_count": null,
   "metadata": {},
   "outputs": [],
   "source": [
    "plt.figure(figsize=figsize)\n",
    "compression_curve= gain_computer(np.linspace(-100, 0, 200000), T=-30, W=10, R=8)\n",
    "plt.plot(np.linspace(-100, 0, 200000), compression_curve)\n",
    "plt.xlabel(\"Input\")\n",
    "plt.ylabel(\"Output\")\n",
    "plt.title(\"Static compression curve\")\n",
    "plt.show()"
   ]
  },
  {
   "cell_type": "code",
   "execution_count": null,
   "metadata": {},
   "outputs": [],
   "source": [
    "def peak_detector(x_L, attack, release):\n",
    "    \"\"\"\n",
    "    Peak detector computing Y_L in dB based on X_L in dB.\n",
    "    \"\"\"\n",
    "    y_L = np.copy(x_L) # init Y_L\n",
    "    \n",
    "    for n in range(1, x_L.size):\n",
    "        if x_L[n] > y_L[n-1] :\n",
    "            y_L[n] = attack * y_L[n-1] + (1-attack) * x_L[n]\n",
    "        else:\n",
    "            y_L[n] = release * y_L[n-1] + (1-release) * x_L[n]\n",
    "\n",
    "    return y_L"
   ]
  },
  {
   "cell_type": "code",
   "execution_count": null,
   "metadata": {},
   "outputs": [],
   "source": [
    "plt.figure(figsize=figsize)\n",
    "square = 0.2 * np.ones(3*fs)\n",
    "square[1*fs:2*fs] = 0.8\n",
    "plt.plot(square, label=\"Dry signal\")\n",
    "plt.plot(peak_detector(square, 0.9995, 0.9999) , label=\"Signal with envelope\")\n",
    "plt.title(\"Attack-release envelope\")\n",
    "plt.legend()\n",
    "plt.show"
   ]
  },
  {
   "cell_type": "code",
   "execution_count": null,
   "metadata": {},
   "outputs": [],
   "source": [
    "def time_to_coef(attack_time, release_time):\n",
    "    \"\"\"\n",
    "    Convert the attack and release times into attack and release coefficients.\n",
    "    \"\"\"\n",
    "    return np.exp(-1/(attack_time*fs)), np.exp(-1/(release_time*fs))"
   ]
  },
  {
   "cell_type": "code",
   "execution_count": null,
   "metadata": {},
   "outputs": [],
   "source": [
    "def compressor(x, T=-30, W=.1, R=4, M=20, at=.001, rt=.01):\n",
    "\n",
    "    x_G = np.where(20 * np.log10(np.abs(x)) > -100, 20 * np.log10(np.abs(x)), -100) # conversion to dB\n",
    "    y_G = gain_computer(x_G, T, W, R) \n",
    "    \n",
    "    attack, release = time_to_coef(at, rt) # Convert times to coefs\n",
    "    x_L =  y_G - x_G\n",
    "    y_L = peak_detector(x_L, attack, release)\n",
    "    \n",
    "    x_M = M + y_L\n",
    "    sidechain = np.power(10, x_M / 20) # conversion back to linear\n",
    "    \n",
    "    return x * sidechain"
   ]
  },
  {
   "cell_type": "markdown",
   "metadata": {},
   "source": [
    "# Guitar sample"
   ]
  },
  {
   "cell_type": "code",
   "execution_count": null,
   "metadata": {},
   "outputs": [],
   "source": [
    "fs, data = wavfile.read('samples/guitar.wav')\n",
    "guitar_sample = np.array(data, dtype=np.float32)\n",
    "guitar_sample /= np.max(np.abs(guitar_sample) )\n",
    "plt.figure(figsize=figsize)\n",
    "plt.plot(guitar_sample)\n",
    "Audio(\"samples/guitar.wav\", autoplay=False)"
   ]
  },
  {
   "cell_type": "code",
   "execution_count": null,
   "metadata": {},
   "outputs": [],
   "source": [
    "guitar_comp = compressor(guitar_sample, T=-60, W=20, R=8, M=40, at=.01, rt=.0002)\n",
    "\n",
    "plt.figure(figsize=figsize)\n",
    "plt.plot(guitar_comp);\n"
   ]
  },
  {
   "cell_type": "code",
   "execution_count": null,
   "metadata": {},
   "outputs": [],
   "source": [
    "wavfile.write('samples/guitar_comp.wav', fs, (0x7FFF * guitar_comp).astype(np.int16))\n",
    "Audio(\"samples/guitar_comp.wav\", autoplay=False)"
   ]
  },
  {
   "cell_type": "code",
   "execution_count": null,
   "metadata": {
    "jupyter": {
     "source_hidden": true
    }
   },
   "outputs": [],
   "source": []
  }
 ],
 "metadata": {
  "kernelspec": {
   "display_name": "Python 3",
   "language": "python",
   "name": "python3"
  },
  "language_info": {
   "codemirror_mode": {
    "name": "ipython",
    "version": 3
   },
   "file_extension": ".py",
   "mimetype": "text/x-python",
   "name": "python",
   "nbconvert_exporter": "python",
   "pygments_lexer": "ipython3",
   "version": "3.8.3"
  }
 },
 "nbformat": 4,
 "nbformat_minor": 4
}
