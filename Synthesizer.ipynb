{
 "cells": [
  {
   "cell_type": "code",
   "execution_count": 1,
   "metadata": {},
   "outputs": [
    {
     "name": "stdout",
     "output_type": "stream",
     "text": [
      "importing Jupyter notebook from Helpers.ipynb\n"
     ]
    }
   ],
   "source": [
    "from numpy.fft import fft, ifft, hfft\n",
    "from scipy.signal import lfilter\n",
    "from scipy.io import wavfile\n",
    "import numpy as np\n",
    "import matplotlib\n",
    "import matplotlib.pyplot as plt\n",
    "from IPython.display import Audio\n",
    "from scipy import signal\n",
    "import import_ipynb\n",
    "import Helpers\n",
    "\n",
    "figsize=(10,5)\n",
    "linewidth=2.5\n",
    "matplotlib.rcParams.update({'font.size': 16})"
   ]
  },
  {
   "cell_type": "code",
   "execution_count": null,
   "metadata": {},
   "outputs": [],
   "source": [
    "fs = 44100\n",
    "time = np.linspace(0, 2, 2*fs)\n",
    "samples = np.arange(2*fs)\n",
    "fourier = np.linspace(0, .2*np.pi, 2*fs)"
   ]
  },
  {
   "cell_type": "markdown",
   "metadata": {},
   "source": [
    "# Digital and additive oscillator"
   ]
  },
  {
   "cell_type": "markdown",
   "metadata": {},
   "source": [
    "The first step of designing a synthesizer is to have oscillators. Here we write down 4 functions for generating each of the 4 basic waveforms. Each functions is given is 2 version, the digital version which simply generates the waveform using any mathematical function, and the additive version whoch uses a sum of sines to approximation the waveform."
   ]
  },
  {
   "cell_type": "markdown",
   "metadata": {},
   "source": [
    "## Sine wave"
   ]
  },
  {
   "cell_type": "code",
   "execution_count": null,
   "metadata": {},
   "outputs": [],
   "source": [
    "def sine(A, w, phi, n):\n",
    "    return A * np.sin(w*n - phi)"
   ]
  },
  {
   "cell_type": "code",
   "execution_count": null,
   "metadata": {},
   "outputs": [],
   "source": [
    "plt.figure(figsize=figsize)\n",
    "plt.plot(time, sine(1, 5, 0, time), linewidth=linewidth,color=\"slateblue\",  label=\"Sine\")\n",
    "plt.xlabel(\"Time\")\n",
    "plt.ylabel(\"Amplitude\")\n",
    "plt.legend(loc='upper right')\n",
    "plt.savefig(\"sine.pdf\" ,bbox_inches='tight')\n",
    "plt.show()"
   ]
  },
  {
   "cell_type": "code",
   "execution_count": null,
   "metadata": {
    "scrolled": true
   },
   "outputs": [],
   "source": [
    "plt.figure(figsize=figsize)\n",
    "plt.plot(fourier[:1000], np.abs(fft(sine(1, 500, 0, time)))[:1000], linewidth=linewidth,color=\"slateblue\",  label=\"Sine\")\n",
    "plt.xlabel(\"Angular frequency\")\n",
    "plt.ylabel(\"Log amplitude\")\n",
    "plt.yscale(\"log\")\n",
    "plt.legend(loc='upper right')\n",
    "plt.savefig(\"sine_fft.pdf\",bbox_inches='tight')\n",
    "plt.show()"
   ]
  },
  {
   "cell_type": "code",
   "execution_count": null,
   "metadata": {},
   "outputs": [],
   "source": [
    "sine1 = sine(1, 0.05, 0, samples)\n",
    "wavfile.write('samples/sine.wav', fs, (0x7FFF * sine1).astype(np.int16))\n",
    "Audio(\"samples/sine.wav\", autoplay=False)"
   ]
  },
  {
   "cell_type": "markdown",
   "metadata": {},
   "source": [
    "## Square wave"
   ]
  },
  {
   "cell_type": "code",
   "execution_count": null,
   "metadata": {},
   "outputs": [],
   "source": [
    "def square(A, w, phi, n):\n",
    "    return A*np.sign( np.sin( w*n - phi))\n",
    "\n",
    "def square_sin(A, w, phi, n, order=20):\n",
    "    out = 0\n",
    "    for k in range(1, order):\n",
    "        out += np.sin((2*k-1)*w*n - phi)/(2*k-1)\n",
    "        \n",
    "    return 4*A/np.pi * out"
   ]
  },
  {
   "cell_type": "code",
   "execution_count": null,
   "metadata": {},
   "outputs": [],
   "source": [
    "plt.figure(figsize=figsize)\n",
    "plt.plot(time, square_sin(1, 5, 0, time, order=11), linewidth=linewidth, color=\"orange\", label=\"Additive square\")\n",
    "plt.plot(time, square(1, 5, 0, time), linewidth=linewidth, color=\"slateblue\", label=\"Digital square\")\n",
    "plt.xlabel(\"Time\")\n",
    "plt.ylabel(\"Amplitude\")\n",
    "plt.legend(loc='upper right')\n",
    "plt.savefig(\"square.pdf\",bbox_inches='tight')\n",
    "plt.show()"
   ]
  },
  {
   "cell_type": "code",
   "execution_count": null,
   "metadata": {},
   "outputs": [],
   "source": [
    "plt.figure(figsize=figsize)\n",
    "plt.plot(fourier[:1000], np.abs(fft(square(1, 50, 0, time)))[:1000], linewidth=linewidth,color=\"slateblue\",  label=\"Digital square\")\n",
    "plt.plot(fourier[:1000], np.abs(fft(square_sin(1, 50, 0, time, order=11)))[:1000], linewidth=linewidth, color=\"orange\", label=\"Additive square\")\n",
    "plt.xlabel(\"Angular frequency\")\n",
    "plt.ylabel(\"Log amplitude\")\n",
    "plt.yscale(\"log\")\n",
    "plt.legend(loc='upper right')\n",
    "plt.savefig(\"square_fft.pdf\",bbox_inches='tight')\n",
    "plt.show()"
   ]
  },
  {
   "cell_type": "code",
   "execution_count": null,
   "metadata": {},
   "outputs": [],
   "source": [
    "square1 = square(1, 0.05, 0, samples)\n",
    "wavfile.write('samples/square.wav', fs, (0x7FFF * square1).astype(np.int16))\n",
    "Audio(\"samples/square.wav\", autoplay=False)"
   ]
  },
  {
   "cell_type": "markdown",
   "metadata": {},
   "source": [
    "## Triangle wave"
   ]
  },
  {
   "cell_type": "code",
   "execution_count": null,
   "metadata": {},
   "outputs": [],
   "source": [
    "def triangle(A, w, phi, n):\n",
    "    return 2*A/np.pi * np.arcsin( np.sin( w*n - phi))\n",
    "\n",
    "def triangle_sin(A, w, phi, n, order=20):\n",
    "    out = 0\n",
    "    for k in range(order):\n",
    "        out += (-1)**k/(2*k+1)**2 * np.sin( (2*k+1)* w*n - phi )\n",
    "        \n",
    "    return 8*A/np.pi**2 * out"
   ]
  },
  {
   "cell_type": "code",
   "execution_count": null,
   "metadata": {},
   "outputs": [],
   "source": [
    "plt.figure(figsize=figsize)\n",
    "plt.plot(time, triangle_sin(1, 5, 0, time, order=2), linewidth=linewidth, color=\"orange\", label=\"Additive triangle\")\n",
    "plt.plot(time, triangle(1, 5, 0, time), linewidth=linewidth, color=\"slateblue\", label=\"Digital triangle\")\n",
    "plt.xlabel(\"Time\")\n",
    "plt.ylabel(\"Amplitude\")\n",
    "plt.legend(loc='upper right')\n",
    "plt.savefig(\"triangle.pdf\",bbox_inches='tight')\n",
    "plt.show()"
   ]
  },
  {
   "cell_type": "code",
   "execution_count": null,
   "metadata": {},
   "outputs": [],
   "source": [
    "plt.figure(figsize=figsize)\n",
    "plt.plot(fourier[:1000], np.abs(fft(triangle(1, 50, 0, time)))[:1000], linewidth=linewidth, color=\"slateblue\", label=\"Digital triangle\")\n",
    "plt.plot(fourier[:1000], np.abs(fft(triangle_sin(1, 50, 0, time, order=2)))[:1000], linewidth=linewidth, color=\"orange\", label=\"Additive triangle\")\n",
    "plt.xlabel(\"Angular frequency\")\n",
    "plt.ylabel(\"Log amplitude\")\n",
    "plt.yscale(\"log\")\n",
    "plt.legend(loc='upper right')\n",
    "plt.savefig(\"triangle_fft.pdf\",bbox_inches='tight')\n",
    "plt.show()"
   ]
  },
  {
   "cell_type": "code",
   "execution_count": null,
   "metadata": {},
   "outputs": [],
   "source": [
    "tri1 = triangle(1, 0.05, 0, samples)\n",
    "wavfile.write('samples/triangle.wav', fs, (0x7FFF * tri1).astype(np.int16))\n",
    "Audio(\"samples/triangle.wav\", autoplay=False)"
   ]
  },
  {
   "cell_type": "markdown",
   "metadata": {},
   "source": [
    "## Sawtooth wave"
   ]
  },
  {
   "cell_type": "code",
   "execution_count": null,
   "metadata": {},
   "outputs": [],
   "source": [
    "def saw(A, w, phi, n):\n",
    "    return 2*A/np.pi * np.arctan( np.tan( w*n/2 - phi))\n",
    "\n",
    "def saw_sin(A, w, phi, n, order=20):\n",
    "    out = 0\n",
    "    for k in range(1, order):\n",
    "        out += (-1)**k/k * np.sin( k*w*n - phi )\n",
    "        \n",
    "    return - 2* A/np.pi * out"
   ]
  },
  {
   "cell_type": "code",
   "execution_count": null,
   "metadata": {},
   "outputs": [],
   "source": [
    "plt.figure(figsize=figsize)\n",
    "plt.plot(time, saw_sin(1, 5, 0, time, order=16), linewidth=linewidth, color=\"orange\", label=\"Additive saw\")\n",
    "plt.plot(time, saw(1, 5, 0, time), linewidth=linewidth, color=\"slateblue\", label=\"Digital saw\")\n",
    "plt.xlabel(\"Time\")\n",
    "plt.ylabel(\"Amplitude\")\n",
    "plt.legend(loc='upper right')\n",
    "plt.savefig(\"saw.pdf\",bbox_inches='tight')\n",
    "plt.show()"
   ]
  },
  {
   "cell_type": "code",
   "execution_count": null,
   "metadata": {},
   "outputs": [],
   "source": [
    "plt.figure(figsize=figsize)\n",
    "plt.plot(fourier[:1000], np.abs(fft(saw(1, 50, 0, time)))[:1000], linewidth=linewidth, color=\"slateblue\", label=\"Digital saw\")\n",
    "plt.plot(fourier[:1000], np.abs(fft(saw_sin(1, 50, 0, time, order=16)))[:1000], linewidth=linewidth, color=\"orange\", label=\"Additive saw\")\n",
    "plt.xlabel(\"Angular frequency\")\n",
    "plt.ylabel(\"Log amplitude\")\n",
    "plt.yscale(\"log\")\n",
    "plt.legend(loc='upper right')\n",
    "plt.savefig(\"saw_fft.pdf\",bbox_inches='tight')\n",
    "plt.show()"
   ]
  },
  {
   "cell_type": "code",
   "execution_count": null,
   "metadata": {},
   "outputs": [],
   "source": [
    "saw1 = saw(1, 0.05, 0, samples)\n",
    "wavfile.write('samples/saw.wav', fs, (0x7FFF * saw1).astype(np.int16))\n",
    "Audio(\"samples/saw.wav\", autoplay=False)"
   ]
  },
  {
   "cell_type": "markdown",
   "metadata": {},
   "source": [
    "# FM synthesis"
   ]
  },
  {
   "cell_type": "markdown",
   "metadata": {},
   "source": [
    "Alternatively to the subtractive and additive syntheses, one can use FM synthesis. Here, a modulator function takes as argument an arbitrary signal, as well as the parameters of a sine wave. The modulator modulates the sine wave with the signal. "
   ]
  },
  {
   "cell_type": "code",
   "execution_count": null,
   "metadata": {},
   "outputs": [],
   "source": [
    "def modulator(cw, cA, mod_signal, mod_index=1, oversampling_rate=8):\n",
    "    \"\"\"\n",
    "    Block modulating a sine carrier with \n",
    "    - ang frequency cw, and \n",
    "    - amplitude cA, with the \n",
    "    - arbitrary signal mod_signal.\n",
    "    Both must have the same length.\n",
    "    \"\"\"\n",
    "    return np.array([cA * np.sin(cw*i + mod_index*2.*np.pi*mod_signal[i]) for i in range(mod_signal.size)])"
   ]
  },
  {
   "cell_type": "code",
   "execution_count": null,
   "metadata": {},
   "outputs": [],
   "source": [
    "sine1 = sine(A=1, w=0.06, phi=-1, n=np.arange(2*fs, dtype=np.float32))\n",
    "plt.figure(figsize=figsize)\n",
    "plt.plot(sine1[:600])\n",
    "wavfile.write('samples/sine1.wav', fs, (0x7FFF * sine1).astype(np.int16))\n",
    "Audio(\"samples/sine1.wav\", autoplay=False)"
   ]
  },
  {
   "cell_type": "code",
   "execution_count": null,
   "metadata": {},
   "outputs": [],
   "source": [
    "sine2 = modulator(cw=0.0599, cA=1, mod_signal=sine1, mod_index=1.12)\n",
    "plt.figure(figsize=figsize)\n",
    "plt.plot(sine2[:600])\n",
    "wavfile.write('samples/sine2.wav', fs, (0x7FFF * sine2).astype(np.int16))\n",
    "Audio(\"samples/sine2.wav\", autoplay=False)"
   ]
  },
  {
   "cell_type": "markdown",
   "metadata": {},
   "source": [
    "Of course, a modulated signal can be used as the input of another modulator and so forth."
   ]
  },
  {
   "cell_type": "code",
   "execution_count": null,
   "metadata": {},
   "outputs": [],
   "source": [
    "sine3 = modulator(.000037, 1, sine2, mod_index=.3)\n",
    "plt.figure(figsize=figsize)\n",
    "plt.plot(sine3[:600])\n",
    "wavfile.write('samples/sine3.wav', fs, (0x7FFF * sine3).astype(np.int16))\n",
    "Audio(\"samples/sine3.wav\", autoplay=False)"
   ]
  },
  {
   "cell_type": "markdown",
   "metadata": {},
   "source": [
    "# Working with LFOs"
   ]
  },
  {
   "cell_type": "markdown",
   "metadata": {},
   "source": [
    "As said in the class, an oscillator can be used to generate sound directly, as above, but also to tune any parameter of a synth. For instance, we can use an oscialltor as a LFO to tune another oscillator's amplitude over time, giving it a whobbly sound. Let's try!"
   ]
  },
  {
   "cell_type": "code",
   "execution_count": null,
   "metadata": {},
   "outputs": [],
   "source": [
    "lfo1 = sine(1, 0.0005, 0, samples) # Low freqency oscillator\n",
    "lfo_square1 = square(lfo1, 0.06, 0, samples) # LFO'ed sine wave\n",
    "\n",
    "plt.figure(figsize=figsize)\n",
    "plt.plot(lfo_square1[:5000])\n",
    "wavfile.write('samples/lfo_square1.wav', fs, (0x7FFF * lfo_square1).astype(np.int16))\n",
    "Audio(\"samples/lfo_square1.wav\", autoplay=False)"
   ]
  },
  {
   "cell_type": "markdown",
   "metadata": {},
   "source": [
    "One can also program the phase of an oscialltor with a LFO."
   ]
  },
  {
   "cell_type": "code",
   "execution_count": null,
   "metadata": {
    "scrolled": true
   },
   "outputs": [],
   "source": [
    "lfo2 = sine(90, 0.0005, 0, samples) # Low freqency oscillator\n",
    "lfo_sine2 = square(1, 0.06, lfo2, samples) # LFO'ed sine wave\n",
    "\n",
    "plt.figure(figsize=figsize)\n",
    "plt.plot(lfo_sine2[:6000])\n",
    "wavfile.write('samples/lfo_sine2.wav', fs, (0x7FFF * lfo_sine2).astype(np.int16))\n",
    "Audio(\"samples/lfo_sine2.wav\", autoplay=False)"
   ]
  },
  {
   "cell_type": "code",
   "execution_count": null,
   "metadata": {},
   "outputs": [],
   "source": []
  }
 ],
 "metadata": {
  "kernelspec": {
   "display_name": "Python 3",
   "language": "python",
   "name": "python3"
  },
  "language_info": {
   "codemirror_mode": {
    "name": "ipython",
    "version": 3
   },
   "file_extension": ".py",
   "mimetype": "text/x-python",
   "name": "python",
   "nbconvert_exporter": "python",
   "pygments_lexer": "ipython3",
   "version": "3.8.5"
  }
 },
 "nbformat": 4,
 "nbformat_minor": 4
}
