{
 "cells": [
  {
   "cell_type": "code",
   "execution_count": 1,
   "metadata": {},
   "outputs": [
    {
     "name": "stdout",
     "output_type": "stream",
     "text": [
      "importing Jupyter notebook from Helpers.ipynb\n"
     ]
    }
   ],
   "source": [
    "from numpy.fft import fft, ifft, hfft\n",
    "from scipy.signal import lfilter\n",
    "from scipy.io import wavfile\n",
    "import numpy as np\n",
    "import matplotlib.pyplot as plt\n",
    "from IPython.display import Audio\n",
    "from scipy import signal\n",
    "import import_ipynb\n",
    "import Helpers\n",
    "\n",
    "figsize=(10,5)"
   ]
  },
  {
   "cell_type": "markdown",
   "metadata": {},
   "source": [
    "# The building blocks of a reverberator"
   ]
  },
  {
   "cell_type": "markdown",
   "metadata": {},
   "source": [
    "In order to build a reverberator, let's first have a look at the components of a reverberator. The first important element to build a reverb is a tap delay, an effect that simply delays copies of the signal with different amplitudes, and sum them up together."
   ]
  },
  {
   "cell_type": "code",
   "execution_count": null,
   "metadata": {},
   "outputs": [],
   "source": [
    "def tap_delay(x, delay_IR, pole=False):\n",
    "    \n",
    "    delays = 0\n",
    "    \n",
    "    for i in range(delay_IR.size):\n",
    "        delays += delay_IR[i] * np.concatenate((np.full((i), 0.), x))[:x.size]\n",
    "        \n",
    "    if pole==True:\n",
    "        b = delay_IR\n",
    "        a = np.ones(1)\n",
    "        freq_response(b,a)\n",
    "        return zplane(b,a)\n",
    "    \n",
    "    return delays "
   ]
  },
  {
   "cell_type": "markdown",
   "metadata": {},
   "source": [
    "The tap delay being an FIR filter, it is always stable and do not have any pole. It features as many zeros as the size of the impulse response. Let's try to create a tap delay with an impulse reponse of size 5 and observe the corresponging pole zero plot."
   ]
  },
  {
   "cell_type": "code",
   "execution_count": null,
   "metadata": {},
   "outputs": [],
   "source": [
    "tap_delay(np.array([1]), np.array([1, 0, 0, .5, .4, 0]), pole=True)"
   ]
  },
  {
   "cell_type": "markdown",
   "metadata": {},
   "source": [
    "The second element we need to create a reverb is the comb filter, or IIR delay. As seen in class, it is a purley recursive filter and hence contains only poles. One must hence be careful to contain the poles inside of the unit circle for the filter to be usable. Given the pole arrangement, the frequency response is a sinusoid."
   ]
  },
  {
   "cell_type": "code",
   "execution_count": null,
   "metadata": {},
   "outputs": [],
   "source": [
    "def comb_filter(x, g, M, pole=False):\n",
    "    \n",
    "    b = np.repeat(np.conj(g),1)\n",
    "    a = np.zeros(M+1)\n",
    "    a[0] = 1\n",
    "    a[M] = g\n",
    "    \n",
    "    if pole==True:\n",
    "        freq_response(b,a)\n",
    "        return zplane(b,a)\n",
    "    \n",
    "    x = lfilter(b, a, x)\n",
    "    return x / np.max(np.abs(x))"
   ]
  },
  {
   "cell_type": "code",
   "execution_count": null,
   "metadata": {},
   "outputs": [],
   "source": [
    "comb_filter(np.array([1]), .4, 5, pole=True)"
   ]
  },
  {
   "cell_type": "markdown",
   "metadata": {},
   "source": [
    "The last element needed to create a reverb is the all-pass comb filter. This filter simply cancels the effects of the poles with zeros in order to make the frequency response flat."
   ]
  },
  {
   "cell_type": "code",
   "execution_count": null,
   "metadata": {},
   "outputs": [],
   "source": [
    "def allpass_comb_filter(x, g, M, pole=False):\n",
    "    \n",
    "    b = np.zeros(M+1)\n",
    "    b[0] = np.conj(g)\n",
    "    b[M] = 1\n",
    "    a = np.zeros(M+1)\n",
    "    a[0] = 1\n",
    "    a[M] = g\n",
    "    \n",
    "    if pole==True:\n",
    "        freq_response(b,a)\n",
    "        return zplane(b,a)\n",
    "    \n",
    "    x = lfilter(b, a, x)\n",
    "    return x / np.max(np.abs(x))"
   ]
  },
  {
   "cell_type": "code",
   "execution_count": null,
   "metadata": {},
   "outputs": [],
   "source": [
    "allpass_comb_filter(np.array([1]), .4, 5, pole=True)"
   ]
  },
  {
   "cell_type": "markdown",
   "metadata": {},
   "source": [
    "We can now compare the impulse responses of the 3 filters."
   ]
  },
  {
   "cell_type": "code",
   "execution_count": null,
   "metadata": {},
   "outputs": [],
   "source": [
    "impulse = np.zeros(100)\n",
    "impulse[1] = 1\n",
    "\n",
    "plt.figure(figsize=(12,6))\n",
    "plt.stem(impulse, label = \"Unit impulse\", linefmt='blue', markerfmt='b.',use_line_collection=True)\n",
    "plt.stem( tap_delay(impulse, np.array([1, 0, 0, .5, .4])),  linefmt='y', label=\"Tap delay IR\", markerfmt='y.',use_line_collection=True)\n",
    "plt.stem( comb_filter(impulse, 0.6, 10), label=\"Comb filter IR\", linefmt='red', markerfmt='r.',use_line_collection=True)\n",
    "plt.stem( allpass_comb_filter(impulse, 0.6, 10), label=\"Allpass comb filter IR\", linefmt='g', markerfmt=\"g.\", use_line_collection=True)\n",
    "plt.legend()\n",
    "plt.show()"
   ]
  },
  {
   "cell_type": "markdown",
   "metadata": {},
   "source": [
    "# Schroeder's reverberator"
   ]
  },
  {
   "cell_type": "markdown",
   "metadata": {},
   "source": [
    "Let's now use the building brick to create actual reverberators, as they were presented in class. The Schoeder reverb startes with parallel comb filters and then series allpass filters."
   ]
  },
  {
   "cell_type": "code",
   "execution_count": null,
   "metadata": {},
   "outputs": [],
   "source": [
    "def schroeder_reverberator(x):\n",
    "    \n",
    "    # Parallel stage\n",
    "    x = ( comb_filter(x, 0.805, 1801) \n",
    "        + comb_filter(x, 0.827, 1478) \n",
    "        + comb_filter(x, 0.783, 2011) \n",
    "        + comb_filter(x, 0.764, 2123) ) / 4\n",
    "    \n",
    "    # Series stage\n",
    "    x = allpass_comb_filter(x, 0.7, 225)\n",
    "    x = allpass_comb_filter(x, 0.7, 82)\n",
    "    x = allpass_comb_filter(x, 0.7, 22)\n",
    "    \n",
    "    return x"
   ]
  },
  {
   "cell_type": "markdown",
   "metadata": {},
   "source": [
    "# Moorer's reverberator"
   ]
  },
  {
   "cell_type": "markdown",
   "metadata": {},
   "source": [
    "The Moorer reverb instead first uses a tap delay to create early reflections, and then uses a delayed parallel comb and series allpass to create late reverberations. The sum of both give the complete reverb."
   ]
  },
  {
   "cell_type": "code",
   "execution_count": null,
   "metadata": {},
   "outputs": [],
   "source": [
    "def moorer_reverberator(x):\n",
    "\n",
    "    # Tap delay\n",
    "    delay_array = np.zeros(150)\n",
    "    delay_array[40]  = .4\n",
    "    delay_array[70]  = .3\n",
    "    delay_array[149] = .2\n",
    "    x = tap_delay(x, delay_array)\n",
    "    early_reflections = x\n",
    "    \n",
    "    # Parallel stage\n",
    "    x = ( comb_filter(x, 0.805, 1801) \n",
    "        + comb_filter(x, 0.827, 1478) \n",
    "        + comb_filter(x, 0.783, 2011) \n",
    "        + comb_filter(x, 0.764, 2123) ) / 4\n",
    "    \n",
    "    # Allpass stage\n",
    "    x = allpass_comb_filter(x, 0.7, 225)\n",
    "    \n",
    "    # Delay\n",
    "    late_reverb = np.concatenate((np.full(1000, 0.), x))[:x.size]\n",
    "    \n",
    "    return early_reflections + late_reverb"
   ]
  },
  {
   "cell_type": "markdown",
   "metadata": {},
   "source": [
    "We can plot the impulse response of both filters."
   ]
  },
  {
   "cell_type": "code",
   "execution_count": null,
   "metadata": {},
   "outputs": [],
   "source": [
    "impulse = np.zeros(20000)\n",
    "impulse[1] = 1\n",
    "\n",
    "plt.figure(figsize=(12,6))\n",
    "plt.stem(impulse, label = \"Unit impulse\",  linefmt='blue', markerfmt='b.',use_line_collection=True)\n",
    "#plt.stem( schroeder_reverberator(impulse),  linefmt='y', label=\"Schoeder IR\", markerfmt='y.',use_line_collection=True)\n",
    "plt.stem( moorer_reverberator(impulse), label=\"Moorer IR\", linefmt='red', markerfmt='r.',use_line_collection=True)\n",
    "plt.legend()\n",
    "plt.show()\n",
    "\n",
    "plt.figure(figsize=(12,6))\n",
    "plt.stem(impulse, label = \"Unit impulse\",  linefmt='blue', markerfmt='b.',use_line_collection=True)\n",
    "plt.stem( schroeder_reverberator(impulse),  linefmt='y', label=\"Schoeder IR\", markerfmt='y.',use_line_collection=True)\n",
    "#plt.stem( moorer_reverberator(impulse), label=\"Moorer IR\", linefmt='red', markerfmt='r.',use_line_collection=True)\n",
    "plt.legend()\n",
    "plt.show()"
   ]
  },
  {
   "cell_type": "markdown",
   "metadata": {},
   "source": [
    "# Testing with guitar sample"
   ]
  },
  {
   "cell_type": "markdown",
   "metadata": {},
   "source": [
    "Time to test out our reverbs with an actual sample of a guitar!"
   ]
  },
  {
   "cell_type": "code",
   "execution_count": null,
   "metadata": {},
   "outputs": [],
   "source": [
    "fs, data = wavfile.read('samples/guitar.wav')\n",
    "guitar_sample = np.array(data, dtype=np.float32)\n",
    "guitar_sample /= np.max(np.abs(guitar_sample) )\n",
    "plt.figure(figsize=figsize)\n",
    "plt.plot(guitar_sample)\n",
    "Audio(\"samples/guitar.wav\", autoplay=False)"
   ]
  },
  {
   "cell_type": "code",
   "execution_count": null,
   "metadata": {},
   "outputs": [],
   "source": [
    "guitar_schroeder = schroeder_reverberator(guitar_sample)\n",
    "guitar_schroeder /= np.max(np.abs(guitar_schroeder) )\n",
    "plt.figure(figsize=figsize)\n",
    "plt.plot(guitar_schroeder)\n",
    "wavfile.write('samples/guitar_schroeder.wav', fs, (0x7FFF * guitar_schroeder).astype(np.int16))\n",
    "Audio(\"samples/guitar_schroeder.wav\", autoplay=False)"
   ]
  },
  {
   "cell_type": "code",
   "execution_count": null,
   "metadata": {},
   "outputs": [],
   "source": [
    "guitar_moorer = moorer_reverberator(guitar_sample)\n",
    "guitar_moorer /= np.max(np.abs(guitar_moorer) )\n",
    "plt.figure(figsize=figsize)\n",
    "plt.plot(guitar_moorer)\n",
    "wavfile.write('samples/guitar_moorer.wav', fs, (0x7FFF * guitar_moorer).astype(np.int16))\n",
    "Audio(\"samples/guitar_moorer.wav\", autoplay=False)"
   ]
  },
  {
   "cell_type": "code",
   "execution_count": null,
   "metadata": {},
   "outputs": [],
   "source": []
  }
 ],
 "metadata": {
  "kernelspec": {
   "display_name": "Python 3",
   "language": "python",
   "name": "python3"
  },
  "language_info": {
   "codemirror_mode": {
    "name": "ipython",
    "version": 3
   },
   "file_extension": ".py",
   "mimetype": "text/x-python",
   "name": "python",
   "nbconvert_exporter": "python",
   "pygments_lexer": "ipython3",
   "version": "3.8.5"
  }
 },
 "nbformat": 4,
 "nbformat_minor": 4
}
