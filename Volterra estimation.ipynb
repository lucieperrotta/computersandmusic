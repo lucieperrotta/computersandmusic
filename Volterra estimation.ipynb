{
 "cells": [
  {
   "cell_type": "code",
   "execution_count": null,
   "metadata": {},
   "outputs": [],
   "source": [
    "import numpy as np\n",
    "import matplotlib.pyplot as plt\n",
    "import math\n",
    "from scipy import signal\n",
    "from scipy.io import wavfile\n",
    "from IPython.display import Audio\n",
    "\n",
    "figsize=(10,5)"
   ]
  },
  {
   "cell_type": "markdown",
   "metadata": {},
   "source": [
    "# Data generation"
   ]
  },
  {
   "cell_type": "markdown",
   "metadata": {},
   "source": [
    "To start, let's generate input output data"
   ]
  },
  {
   "cell_type": "code",
   "execution_count": null,
   "metadata": {},
   "outputs": [],
   "source": [
    "def linearOperator(x):\n",
    "    # y[n] = x[n] - 0.5 x[n-1] + 0.5 x[n-2]\n",
    "     return  x \\\n",
    "            - 0.5 * np.concatenate((np.full(1, x[0]),x))[:x.size] \\\n",
    "            + 0.5 * np.concatenate((np.full(2, x[0]),x))[:x.size]\n",
    "    # return x\n",
    "\n",
    "def nonLinearFunction(x):\n",
    "    # return 3*x/2 * (1- x**2 /3) # Distorsion proposed by Araya(1996)\n",
    "    # return (np.abs(2*x) - x**2 )*np.sign(x) # Distorsion proposed by Diodic(1998)\n",
    "     return 2/np.pi * np.arctan(50*x) # Hard clipping distortion\n",
    "\n",
    "plt.plot(nonLinearFunction(linearOperator(np.linspace(-1,1,100))))"
   ]
  },
  {
   "cell_type": "code",
   "execution_count": null,
   "metadata": {},
   "outputs": [],
   "source": [
    "# Constants\n",
    "\n",
    "p=15 # Maximum degree of the Volterra series\n",
    "N=200 # test size"
   ]
  },
  {
   "cell_type": "code",
   "execution_count": null,
   "metadata": {},
   "outputs": [],
   "source": [
    "# Generate training data\n",
    "x_train = np.random.rand(N) *2 -1 # Random input values in [-1,1]\n",
    "x_oversampled = signal.resample(x_train, x_train.size * 8) # Oversampling to avoid harmonic generation\n",
    "y_oversampled = nonLinearFunction(linearOperator(x_oversampled)) # Corresponding nonlinear output values\n",
    "y_train = signal.resample(y_oversampled, int(y_oversampled.size/8) ) # Downsampling"
   ]
  },
  {
   "cell_type": "markdown",
   "metadata": {},
   "source": [
    "# Training the Volterra kernels"
   ]
  },
  {
   "cell_type": "code",
   "execution_count": null,
   "metadata": {},
   "outputs": [],
   "source": [
    "def a(n):\n",
    "    return np.sqrt(1/math.factorial(n))\n",
    "\n",
    "def kp(x1, x2):\n",
    "    return np.sum( np.fromiter( (a(n)**2 * (x1*x2)**n for n in range(0,p) ), float) )\n",
    "\n",
    "kp_vec = np.vectorize(kp, excluded=[\"x1\"])\n",
    "\n",
    "def kpVec(xnew, x):\n",
    "    return (kp_vec(xnew, x)).T"
   ]
  },
  {
   "cell_type": "code",
   "execution_count": null,
   "metadata": {},
   "outputs": [],
   "source": [
    "# Global computation of the Gram Matrix K\n",
    "Kp = np.zeros((N,N))\n",
    "for i in range(0,N):\n",
    "    for j in range(0,N):\n",
    "        Kp[i,j] = kp(x_train[i], x_train[j])\n",
    "        \n",
    "KpInv = np.linalg.pinv(Kp)"
   ]
  },
  {
   "cell_type": "code",
   "execution_count": null,
   "metadata": {},
   "outputs": [],
   "source": [
    "def volterraEstimation(newx, x, y):\n",
    "    \n",
    "    return y.T @ KpInv @ kpVec(newx, x)\n",
    "\n",
    "plt.plot( [volterraEstimation(i, x_train, y_train) for i in np.arange(-1,1,0.01)])"
   ]
  },
  {
   "cell_type": "code",
   "execution_count": null,
   "metadata": {},
   "outputs": [],
   "source": [
    "def volterraFilter(x):\n",
    "    y = np.zeros(x.size)\n",
    "    \n",
    "    for i in range(x.size):\n",
    "        y[i] = volterraEstimation(x[i], x_train, y_train)\n",
    "        \n",
    "    return y"
   ]
  },
  {
   "cell_type": "markdown",
   "metadata": {},
   "source": [
    "# Test with a half unit impulse response"
   ]
  },
  {
   "cell_type": "code",
   "execution_count": null,
   "metadata": {},
   "outputs": [],
   "source": [
    "impulse = np.zeros(10)\n",
    "impulse[2] = .5\n",
    "\n",
    "originalImpulseResponse = nonLinearFunction(linearOperator(impulse))\n",
    "volterraImpulseResponse = volterraFilter(impulse)\n",
    "\n",
    "plt.figure(figsize=(12,6))\n",
    "plt.plot(impulse, label='Dry impulse')\n",
    "plt.plot(originalImpulseResponse, label='Original response')\n",
    "plt.plot(volterraImpulseResponse, label='Volterra response')\n",
    "plt.legend()\n",
    "plt.show()"
   ]
  },
  {
   "cell_type": "markdown",
   "metadata": {},
   "source": [
    "# Test with actual guitar"
   ]
  },
  {
   "cell_type": "code",
   "execution_count": null,
   "metadata": {},
   "outputs": [],
   "source": [
    "fs, guitar_clean = wavfile.read('samples/guitar.wav')\n",
    "guitar_clean = np.array(guitar_clean, dtype=np.float32)\n",
    "guitar_clean /= np.max(np.abs(guitar_clean) )\n",
    "fs, guitar_disto = wavfile.read('samples/guitar_disto_original.wav')\n",
    "guitar_disto = np.array(guitar_disto, dtype=np.float32)\n",
    "guitar_disto /= np.max(np.abs(guitar_disto) )"
   ]
  },
  {
   "cell_type": "code",
   "execution_count": null,
   "metadata": {},
   "outputs": [],
   "source": [
    "Audio(\"samples/guitar.wav\", autoplay=False)"
   ]
  },
  {
   "cell_type": "code",
   "execution_count": null,
   "metadata": {},
   "outputs": [],
   "source": [
    "Audio(\"samples/guitar_disto_original.wav\", autoplay=False)"
   ]
  },
  {
   "cell_type": "code",
   "execution_count": null,
   "metadata": {},
   "outputs": [],
   "source": [
    "# Train the model with the guitar\n",
    "x_train = guitar_clean[50000: 50000+N]\n",
    "y_train = guitar_disto[50000: 50000+N]"
   ]
  },
  {
   "cell_type": "code",
   "execution_count": null,
   "metadata": {},
   "outputs": [],
   "source": [
    "# Global computation of the Gram Matrix K\n",
    "Kp = np.zeros((N,N))\n",
    "for i in range(0,N):\n",
    "    for j in range(0,N):\n",
    "        Kp[i,j] = kp(x_train[i], x_train[j])\n",
    "        \n",
    "KpInv = np.linalg.pinv(Kp)"
   ]
  },
  {
   "cell_type": "code",
   "execution_count": null,
   "metadata": {},
   "outputs": [],
   "source": [
    "guitar_disto_volterra = volterraFilter(guitar_clean)"
   ]
  },
  {
   "cell_type": "code",
   "execution_count": null,
   "metadata": {},
   "outputs": [],
   "source": [
    "wavfile.write('samples/guitar_disto_volterra.wav', fs, (0x7FFF * guitar_disto_volterra).astype(np.int16))\n",
    "Audio(\"samples/guitar_disto_volterra.wav\", autoplay=False)"
   ]
  },
  {
   "cell_type": "code",
   "execution_count": null,
   "metadata": {},
   "outputs": [],
   "source": []
  },
  {
   "cell_type": "code",
   "execution_count": null,
   "metadata": {},
   "outputs": [],
   "source": []
  }
 ],
 "metadata": {
  "kernelspec": {
   "display_name": "Python 3",
   "language": "python",
   "name": "python3"
  },
  "language_info": {
   "codemirror_mode": {
    "name": "ipython",
    "version": 3
   },
   "file_extension": ".py",
   "mimetype": "text/x-python",
   "name": "python",
   "nbconvert_exporter": "python",
   "pygments_lexer": "ipython3",
   "version": "3.8.3"
  }
 },
 "nbformat": 4,
 "nbformat_minor": 4
}
