{
 "cells": [
  {
   "cell_type": "code",
   "execution_count": 1,
   "metadata": {},
   "outputs": [
    {
     "name": "stdout",
     "output_type": "stream",
     "text": [
      "importing Jupyter notebook from Helpers.ipynb\n"
     ]
    }
   ],
   "source": [
    "from numpy.fft import fft, ifft, hfft\n",
    "from scipy.io import wavfile\n",
    "import numpy as np\n",
    "import matplotlib.pyplot as plt\n",
    "from IPython.display import Audio\n",
    "from scipy import signal\n",
    "import import_ipynb\n",
    "import Helpers\n",
    "\n",
    "figsize=(10,5)\n",
    "oversampling_rate=8"
   ]
  },
  {
   "cell_type": "markdown",
   "metadata": {},
   "source": [
    "# Start with a dry guitar sound"
   ]
  },
  {
   "cell_type": "code",
   "execution_count": null,
   "metadata": {},
   "outputs": [],
   "source": [
    "fs, data = wavfile.read('samples/guitar.wav')\n",
    "guitar_sample = np.array(data, dtype=np.float32)\n",
    "guitar_sample /= np.max(np.abs(guitar_sample) )\n",
    "plt.figure(figsize=figsize)\n",
    "plt.plot(guitar_sample)\n",
    "Audio(\"samples/guitar.wav\", autoplay=False)"
   ]
  },
  {
   "cell_type": "code",
   "execution_count": null,
   "metadata": {},
   "outputs": [],
   "source": [
    "plt.figure(figsize=figsize)\n",
    "plt.plot(np.abs(fft(guitar_sample)), label=\"dry guitar\")\n",
    "plt.xlim(100 , guitar_sample.size / 2)\n",
    "plt.xscale(\"log\")\n",
    "plt.legend()\n",
    "plt.show()"
   ]
  },
  {
   "cell_type": "markdown",
   "metadata": {},
   "source": [
    "# Modelling the distortion as a simple static waveshaper"
   ]
  },
  {
   "cell_type": "code",
   "execution_count": null,
   "metadata": {},
   "outputs": [],
   "source": [
    "def distortion(x, n):\n",
    "     return 2/np.pi * np.arctan(n*x) # Hard clipping distortion"
   ]
  },
  {
   "cell_type": "markdown",
   "metadata": {},
   "source": [
    "# The harmonics problem"
   ]
  },
  {
   "cell_type": "code",
   "execution_count": null,
   "metadata": {},
   "outputs": [],
   "source": [
    "sine = np.sin(2 * np.pi * 4123 * np.linspace(0, 2, 2 * fs))\n",
    "sine_disto = distortion(sine, 80)\n",
    "\n",
    "wavfile.write('samples/sine.wav', fs, (0x7FFF *sine).astype(np.int16))\n",
    "Audio(\"samples/sine.wav\", autoplay=False)"
   ]
  },
  {
   "cell_type": "code",
   "execution_count": null,
   "metadata": {},
   "outputs": [],
   "source": [
    "plt.figure(figsize=figsize)\n",
    "plt.plot(np.abs( fft(sine_disto)), label=\"distorted sine\")\n",
    "plt.plot(np.abs( fft(sine)), label=\"sine\")\n",
    "plt.xlim(10 * sine.size/2 / 22050 , sine.size /2 ) \n",
    "plt.xscale(\"log\")\n",
    "plt.legend()\n",
    "plt.show()\n",
    "\n",
    "\n",
    "\n",
    "wavfile.write('samples/sine_disto.wav', fs, sine_disto)\n",
    "Audio(\"samples/sine_disto.wav\", autoplay=False)"
   ]
  },
  {
   "cell_type": "code",
   "execution_count": null,
   "metadata": {},
   "outputs": [],
   "source": [
    "sine_oversample = oversample(sine, oversampling_rate)\n",
    "sine_disto_oversample = distortion(sine_oversample, 50)\n",
    "sine_disto_downsample = undersample(sine_disto_oversample, oversampling_rate)"
   ]
  },
  {
   "cell_type": "code",
   "execution_count": null,
   "metadata": {},
   "outputs": [],
   "source": [
    "plt.figure(figsize=figsize)\n",
    "plt.plot(np.abs( fft(sine_disto_downsample)), label=\"distorted sine\")\n",
    "plt.plot(np.abs( fft(sine)), label=\"sine\")\n",
    "plt.xlim(10 * sine.size/2 / 22050 , sine.size /2 ) \n",
    "plt.xscale(\"log\")\n",
    "plt.legend()\n",
    "plt.show()\n",
    "\n",
    "wavfile.write('samples/sine_disto_downsample.wav', fs, sine_disto_downsample)\n",
    "Audio(\"samples/sine_disto_downsample.wav\", autoplay=False)"
   ]
  },
  {
   "cell_type": "code",
   "execution_count": null,
   "metadata": {},
   "outputs": [],
   "source": [
    "plt.figure(figsize=figsize)\n",
    "plt.plot(sine, label=\"sine\")\n",
    "plt.plot(sine_disto, label=\"distorted sine\")\n",
    "plt.plot(sine_disto_downsample, label=\"distorted sine with oversampling\")\n",
    "plt.xlim(0, 20 )\n",
    "plt.legend()\n",
    "plt.show()"
   ]
  },
  {
   "cell_type": "markdown",
   "metadata": {},
   "source": [
    "# Naive waveshaper on guitar (1-band)"
   ]
  },
  {
   "cell_type": "code",
   "execution_count": null,
   "metadata": {},
   "outputs": [],
   "source": [
    "guitar_oversample = oversample(guitar_sample, oversampling_rate)\n",
    "guitar_disto_oversample = distortion(guitar_oversample, 50)\n",
    "guitar_disto_naive = undersample(guitar_disto_oversample, oversampling_rate)\n",
    "\n",
    "plt.figure(figsize=figsize)\n",
    "plt.plot(guitar_disto_naive)\n",
    "wavfile.write('samples/guitar_disto_naive.wav', fs, (0x7FFF * guitar_disto_naive).astype(np.int16))\n",
    "Audio(\"samples/guitar_disto_naive.wav\", autoplay=False)"
   ]
  },
  {
   "cell_type": "markdown",
   "metadata": {},
   "source": [
    "# 3-band filter"
   ]
  },
  {
   "cell_type": "code",
   "execution_count": null,
   "metadata": {},
   "outputs": [],
   "source": [
    "guitar_low = butter_pass_filter(guitar_oversample,  200., fs*oversampling_rate, btype=\"low\", order=7).astype(np.float32) \n",
    "guitar_band = butter_pass_filter(guitar_oversample,  np.array((200., 1000.)), fs*oversampling_rate, btype=\"band\", order=7).astype(np.float32) \n",
    "guitar_high = butter_pass_filter(guitar_oversample,  1000., fs*oversampling_rate, btype=\"high\", order=7).astype(np.float32) \n",
    "\n",
    "fft_low = np.abs( fft(guitar_low) )\n",
    "fft_band = np.abs( fft(guitar_band) )\n",
    "fft_high = np.abs( fft(guitar_high) )"
   ]
  },
  {
   "cell_type": "code",
   "execution_count": null,
   "metadata": {},
   "outputs": [],
   "source": [
    "plt.figure(figsize=figsize)\n",
    "plt.plot(fft_low, label=\"lowpass\")\n",
    "plt.plot(fft_band, label=\"bandpass\")\n",
    "plt.plot(fft_high, label=\"highpass\")\n",
    "plt.xlim(100, fft_high.size/2 / oversampling_rate) \n",
    "plt.xscale(\"log\")\n",
    "plt.legend()\n",
    "plt.show()"
   ]
  },
  {
   "cell_type": "markdown",
   "metadata": {},
   "source": [
    "# Waveshaping each band"
   ]
  },
  {
   "cell_type": "code",
   "execution_count": null,
   "metadata": {},
   "outputs": [],
   "source": [
    "guitar_disto_3band_oversampled = distortion(guitar_low, 30) + distortion(guitar_band, 20) + distortion(guitar_high, 2)\n",
    "guitar_disto_3band = undersample(guitar_disto_3band_oversampled, oversampling_rate)\n",
    "\n",
    "plt.figure(figsize=figsize)\n",
    "plt.figure(figsize=figsize)\n",
    "plt.plot(guitar_disto_3band)\n",
    "\n",
    "\n",
    "wavfile.write('samples/guitar_disto_3band.wav', fs, guitar_disto_3band)\n",
    "Audio(\"samples/guitar_disto_3band.wav\", autoplay=False)"
   ]
  },
  {
   "cell_type": "code",
   "execution_count": null,
   "metadata": {},
   "outputs": [],
   "source": []
  }
 ],
 "metadata": {
  "kernelspec": {
   "display_name": "Python 3",
   "language": "python",
   "name": "python3"
  },
  "language_info": {
   "codemirror_mode": {
    "name": "ipython",
    "version": 3
   },
   "file_extension": ".py",
   "mimetype": "text/x-python",
   "name": "python",
   "nbconvert_exporter": "python",
   "pygments_lexer": "ipython3",
   "version": "3.8.5"
  }
 },
 "nbformat": 4,
 "nbformat_minor": 4
}
